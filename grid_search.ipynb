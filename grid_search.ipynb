{
 "cells": [
  {
   "cell_type": "code",
   "execution_count": 6,
   "metadata": {},
   "outputs": [],
   "source": [
    "import qiskit, constant, base, quantum\n",
    "import numpy as np\n",
    "import importlib\n",
    "importlib.reload(base)\n",
    "importlib.reload(quantum)\n",
    "def f(thetas):\n",
    "    qc = qiskit.QuantumCircuit(2,2)\n",
    "    qc.rx(thetas[0], 0)\n",
    "    qc.rz(thetas[1], 1)\n",
    "    qc.cry(thetas[2], 0, 1)\n",
    "    return quantum.measure(qc, [0,1])"
   ]
  },
  {
   "cell_type": "code",
   "execution_count": 9,
   "metadata": {},
   "outputs": [
    {
     "name": "stdout",
     "output_type": "stream",
     "text": [
      "0.5012\n"
     ]
    }
   ],
   "source": [
    "\n",
    "thetas = np.array([np.pi/2, np.pi/3, np.pi/4])\n",
    "\n",
    "print(f(thetas))"
   ]
  },
  {
   "cell_type": "code",
   "execution_count": 16,
   "metadata": {},
   "outputs": [
    {
     "data": {
      "text/html": [
       "<pre style=\"word-wrap: normal;white-space: pre;background: #fff0;line-height: 1.1;font-family: &quot;Courier New&quot;,Courier,monospace\">     ┌─────────┐           \n",
       "q_0: ┤ Rx(π/2) ├─────■─────\n",
       "     ├─────────┤┌────┴────┐\n",
       "q_1: ┤ Rz(π/3) ├┤ Ry(π/4) ├\n",
       "     └─────────┘└─────────┘\n",
       "q_2: ──────────────────────\n",
       "                           \n",
       "c: 3/══════════════════════\n",
       "                           </pre>"
      ],
      "text/plain": [
       "     ┌─────────┐           \n",
       "q_0: ┤ Rx(π/2) ├─────■─────\n",
       "     ├─────────┤┌────┴────┐\n",
       "q_1: ┤ Rz(π/3) ├┤ Ry(π/4) ├\n",
       "     └─────────┘└─────────┘\n",
       "q_2: ──────────────────────\n",
       "                           \n",
       "c: 3/══════════════════════\n",
       "                           "
      ]
     },
     "execution_count": 16,
     "metadata": {},
     "output_type": "execute_result"
    }
   ],
   "source": [
    "qc = qiskit.QuantumCircuit(3,3)\n",
    "qc.rx(thetas[0], 0)\n",
    "qc.rz(thetas[1], 1)\n",
    "qc.cry(thetas[2], 0, 1)\n",
    "qc.draw()    "
   ]
  }
 ],
 "metadata": {
  "kernelspec": {
   "display_name": "Python 3",
   "language": "python",
   "name": "python3"
  },
  "language_info": {
   "codemirror_mode": {
    "name": "ipython",
    "version": 3
   },
   "file_extension": ".py",
   "mimetype": "text/x-python",
   "name": "python",
   "nbconvert_exporter": "python",
   "pygments_lexer": "ipython3",
   "version": "3.10.9"
  },
  "orig_nbformat": 4,
  "vscode": {
   "interpreter": {
    "hash": "aee8b7b246df8f9039afb4144a1f6fd8d2ca17a180786b69acc140d282b71a49"
   }
  }
 },
 "nbformat": 4,
 "nbformat_minor": 2
}
